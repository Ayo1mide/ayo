{
 "cells": [
  {
   "cell_type": "code",
   "execution_count": 2,
   "id": "9b383ab7",
   "metadata": {},
   "outputs": [
    {
     "name": "stdout",
     "output_type": "stream",
     "text": [
      "1 1\n",
      "max 1\n",
      "200 200\n",
      "max 200\n",
      "2000 2000\n",
      "max 2000\n",
      "77777 77777\n",
      "max 77777\n"
     ]
    }
   ],
   "source": [
    "max_num= -1\n",
    "#min= input('enter min')\n",
    "#count== max and min\n",
    "for ayo in [1,200,30,2000,2,77777]:\n",
    "    if ayo> max_num:\n",
    "        max_num=ayo\n",
    "        print(max_num,ayo)\n",
    "        print('max', max_num)\n",
    "        "
   ]
  },
  {
   "cell_type": "code",
   "execution_count": 3,
   "id": "ffdb4b03",
   "metadata": {},
   "outputs": [
    {
     "ename": "IndentationError",
     "evalue": "unexpected indent (270035538.py, line 3)",
     "output_type": "error",
     "traceback": [
      "\u001b[1;36m  Cell \u001b[1;32mIn[3], line 3\u001b[1;36m\u001b[0m\n\u001b[1;33m    for i in [1,2,3,4,100,10]:\u001b[0m\n\u001b[1;37m    ^\u001b[0m\n\u001b[1;31mIndentationError\u001b[0m\u001b[1;31m:\u001b[0m unexpected indent\n"
     ]
    }
   ],
   "source": [
    " min_num=none\n",
    "    #print('before')\n",
    "    for i in [1,2,3,4,100,10]:\n",
    "        if min_num is none:\n",
    "            min_num==i\n",
    "            elif i<min_value:\n",
    "                min_value==i\n",
    "                print(min_num,i)\n",
    "                print('max', min_num)"
   ]
  },
  {
   "cell_type": "code",
   "execution_count": null,
   "id": "6424dae9",
   "metadata": {},
   "outputs": [],
   "source": [
    "zork=0\n",
    "print('before', zork)\n",
    "for thing in [9,4,1,5,7,9,5]:\n",
    "    zork=zork+ thing\n",
    "    print(zork,thing)\n",
    "    print('after', zork)"
   ]
  },
  {
   "cell_type": "code",
   "execution_count": null,
   "id": "f169e4dc",
   "metadata": {},
   "outputs": [],
   "source": [
    "product=1\n",
    "for i in range(1,10):\n",
    "    product=product*i\n",
    "    print(product)"
   ]
  },
  {
   "cell_type": "code",
   "execution_count": null,
   "id": "d98597e0",
   "metadata": {},
   "outputs": [],
   "source": [
    "def csis(x):return (x-32)*5//9\n",
    "for x in range(0,101,2):\n",
    "    print(x,csis(x))"
   ]
  },
  {
   "cell_type": "code",
   "execution_count": null,
   "id": "a14a4a98",
   "metadata": {},
   "outputs": [],
   "source": [
    "x= [[1,2,3],[\"a\",\"b\",\"c\"]]\n",
    "for i in x:\n",
    "    for j in i:\n",
    "        print(j,end=\"*\")\n",
    "        print()"
   ]
  },
  {
   "cell_type": "code",
   "execution_count": null,
   "id": "a8b14fd0",
   "metadata": {},
   "outputs": [],
   "source": [
    "language='pys'\n",
    "if language=='pys':\n",
    "    print('yes o')"
   ]
  },
  {
   "cell_type": "code",
   "execution_count": null,
   "id": "68c415ac",
   "metadata": {},
   "outputs": [],
   "source": [
    "def odd_number(x):return (x+2)\n",
    "for x in range(0,101,10):\n",
    "    print(x,odd_number(x))"
   ]
  },
  {
   "cell_type": "code",
   "execution_count": null,
   "id": "78f3f206",
   "metadata": {},
   "outputs": [],
   "source": [
    "numbers = [5, 14, 9, 17]\n",
    "for number in numbers:\n",
    "    if number % 3 == 0:\n",
    "        print(number)"
   ]
  },
  {
   "cell_type": "code",
   "execution_count": 15,
   "id": "785c82d9",
   "metadata": {},
   "outputs": [
    {
     "name": "stdout",
     "output_type": "stream",
     "text": [
      "9\n",
      "8\n",
      "7\n",
      "6\n",
      "5\n",
      "4\n",
      "3\n",
      "2\n",
      "1\n",
      "happy new year\n"
     ]
    }
   ],
   "source": [
    "for x in reversed(range(1,10)):\n",
    "    #if x==7:\n",
    "     #   continue\n",
    "        print(x)\n",
    "print(\"happy new year\")"
   ]
  },
  {
   "cell_type": "code",
   "execution_count": 12,
   "id": "aab7fcd9",
   "metadata": {},
   "outputs": [
    {
     "ename": "SyntaxError",
     "evalue": "invalid syntax (1114595082.py, line 4)",
     "output_type": "error",
     "traceback": [
      "\u001b[1;36m  Cell \u001b[1;32mIn[12], line 4\u001b[1;36m\u001b[0m\n\u001b[1;33m    else:\u001b[0m\n\u001b[1;37m    ^\u001b[0m\n\u001b[1;31mSyntaxError\u001b[0m\u001b[1;31m:\u001b[0m invalid syntax\n"
     ]
    }
   ],
   "source": [
    "for x in range(1,10):\n",
    "    if x==7:\n",
    "        break\n",
    "        else:\n",
    "            print(x)"
   ]
  },
  {
   "cell_type": "code",
   "execution_count": null,
   "id": "022cf83b",
   "metadata": {},
   "outputs": [],
   "source": [
    "x= int(input(\"ENTER YOUR AGE, USE @ TO EXIT\"))\n",
    "while x<0 or x>10:\n",
    "    print(f\"{x}age notvalid\")\n",
    "    x= int(input(\"ENTER YOUR AGE, USE @ TO EXIT\"))\n",
    "print(f\"youre{x} years old\")"
   ]
  },
  {
   "cell_type": "code",
   "execution_count": null,
   "id": "896adf75",
   "metadata": {},
   "outputs": [],
   "source": [
    "name= input(\"enter name\")\n",
    "while name ==\"\":\n",
    "    print(\"no name\")\n",
    "    name= input(\"enter name\")\n",
    "    print(\"hello \")"
   ]
  },
  {
   "cell_type": "code",
   "execution_count": null,
   "id": "747a5c57",
   "metadata": {},
   "outputs": [],
   "source": [
    "food= input(\"enter food\")\n",
    "while not food==\"q\":\n",
    "    print(\"you like\" food)\n",
    "    food= input(\"enter food\")\n",
    "print(\"bye\")"
   ]
  },
  {
   "cell_type": "code",
   "execution_count": null,
   "id": "76aba712",
   "metadata": {},
   "outputs": [],
   "source": [
    "alist= n.copy"
   ]
  }
 ],
 "metadata": {
  "kernelspec": {
   "display_name": "Python 3 (ipykernel)",
   "language": "python",
   "name": "python3"
  },
  "language_info": {
   "codemirror_mode": {
    "name": "ipython",
    "version": 3
   },
   "file_extension": ".py",
   "mimetype": "text/x-python",
   "name": "python",
   "nbconvert_exporter": "python",
   "pygments_lexer": "ipython3",
   "version": "3.11.5"
  }
 },
 "nbformat": 4,
 "nbformat_minor": 5
}
